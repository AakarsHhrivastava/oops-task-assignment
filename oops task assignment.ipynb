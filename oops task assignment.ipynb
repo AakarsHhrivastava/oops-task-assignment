{
 "cells": [
  {
   "cell_type": "markdown",
   "id": "0a40a2ac-6afd-415f-9cdc-b5af3b179a01",
   "metadata": {},
   "source": [
    "### Q1, Create a vehicle class with an init method having instance variables as name_of_vehicle, max_speed and average_of_vehicle."
   ]
  },
  {
   "cell_type": "code",
   "execution_count": 3,
   "id": "47968d62-0aa8-4c64-8118-f0a9f985ff1a",
   "metadata": {},
   "outputs": [],
   "source": [
    "class vehichle :\n",
    "    \n",
    "    def __init__(self, name_of_vehichle, max_speed, average_of_vehichle):\n",
    "        \n",
    "        self.name_of_vehichle = name_of_vehichle\n",
    "        self.max_speed = max_speed\n",
    "        self.average_of_vehichle = average_of_vehichle\n",
    "        \n",
    "    def return_car_details(self):\n",
    "        return self.name_of_vehichle ,self.max_speed ,self.average_of_vehichle"
   ]
  },
  {
   "cell_type": "code",
   "execution_count": 4,
   "id": "76f9a29b-f496-4c25-9cbe-37063fe0e442",
   "metadata": {},
   "outputs": [],
   "source": [
    "car = vehichle(\"swift dezire\", 180, 20)"
   ]
  },
  {
   "cell_type": "code",
   "execution_count": 6,
   "id": "bfc0d37a-b88b-4c3b-81b5-acd2d71889f9",
   "metadata": {},
   "outputs": [
    {
     "data": {
      "text/plain": [
       "('swift dezire', 180, 20)"
      ]
     },
     "execution_count": 6,
     "metadata": {},
     "output_type": "execute_result"
    }
   ],
   "source": [
    "car.return_car_details()"
   ]
  },
  {
   "cell_type": "code",
   "execution_count": 10,
   "id": "898eaf73-0317-49e4-af7b-23452fcb1b51",
   "metadata": {},
   "outputs": [
    {
     "data": {
      "text/plain": [
       "180"
      ]
     },
     "execution_count": 10,
     "metadata": {},
     "output_type": "execute_result"
    }
   ],
   "source": [
    "car.max_speed"
   ]
  },
  {
   "cell_type": "code",
   "execution_count": 11,
   "id": "0bacc9f6-bd77-43e0-91f0-dc81e36ef40a",
   "metadata": {},
   "outputs": [
    {
     "data": {
      "text/plain": [
       "'swift dezire'"
      ]
     },
     "execution_count": 11,
     "metadata": {},
     "output_type": "execute_result"
    }
   ],
   "source": [
    "car.name_of_vehichle"
   ]
  },
  {
   "cell_type": "code",
   "execution_count": 12,
   "id": "e6384d54-d2f2-41fe-ba65-ef73aa4230a4",
   "metadata": {},
   "outputs": [
    {
     "data": {
      "text/plain": [
       "20"
      ]
     },
     "execution_count": 12,
     "metadata": {},
     "output_type": "execute_result"
    }
   ],
   "source": [
    "car.average_of_vehichle"
   ]
  },
  {
   "cell_type": "markdown",
   "id": "9e747b84-36ec-4193-8f95-ea4874f72c62",
   "metadata": {},
   "source": [
    "### Q2. Create a child class car from the vehicle class created in Que 1, which will inherit the vehicle class. Create a method named seating_capacity which takes capacity as an argument and returns the name of the vehicle and its seating capacity."
   ]
  },
  {
   "cell_type": "code",
   "execution_count": 13,
   "id": "3ac5131f-39b6-475e-8a54-2f4672515cf3",
   "metadata": {},
   "outputs": [],
   "source": [
    "class car(vehichle):\n",
    "    def seating_capacity(self, capacity):\n",
    "        return f\"the {self.name_of_vehichle} has a seating capacity of {capacity}\""
   ]
  },
  {
   "cell_type": "code",
   "execution_count": 17,
   "id": "96363e40-8cc8-480b-bdc9-6321e98f154e",
   "metadata": {},
   "outputs": [],
   "source": [
    "Car = car(\"swift dezire\", 180,20)"
   ]
  },
  {
   "cell_type": "code",
   "execution_count": 18,
   "id": "db83eac9-fb9b-4cd8-93db-2884a2c0ac5c",
   "metadata": {},
   "outputs": [
    {
     "data": {
      "text/plain": [
       "<bound method car.seating_capacity of <__main__.car object at 0x7f5b266d61d0>>"
      ]
     },
     "execution_count": 18,
     "metadata": {},
     "output_type": "execute_result"
    }
   ],
   "source": [
    "Car.seating_capacity"
   ]
  },
  {
   "cell_type": "code",
   "execution_count": 19,
   "id": "68a17e9c-6fc3-4095-af15-7dfd2b4050a5",
   "metadata": {},
   "outputs": [
    {
     "data": {
      "text/plain": [
       "'the swift dezire has a seating capacity of 5'"
      ]
     },
     "execution_count": 19,
     "metadata": {},
     "output_type": "execute_result"
    }
   ],
   "source": [
    "Car.seating_capacity(5)"
   ]
  },
  {
   "cell_type": "code",
   "execution_count": 20,
   "id": "7f4a5428-5723-4fa3-93c3-302864c85e71",
   "metadata": {},
   "outputs": [
    {
     "data": {
      "text/plain": [
       "180"
      ]
     },
     "execution_count": 20,
     "metadata": {},
     "output_type": "execute_result"
    }
   ],
   "source": [
    "Car.max_speed"
   ]
  },
  {
   "cell_type": "code",
   "execution_count": 21,
   "id": "78a17c5a-e8eb-422f-81b2-19445326fb62",
   "metadata": {},
   "outputs": [
    {
     "data": {
      "text/plain": [
       "'swift dezire'"
      ]
     },
     "execution_count": 21,
     "metadata": {},
     "output_type": "execute_result"
    }
   ],
   "source": [
    "Car.name_of_vehichle"
   ]
  },
  {
   "cell_type": "markdown",
   "id": "5d43e6a0-fc9f-4141-b8e5-ad5f2495cb34",
   "metadata": {},
   "source": [
    "### Q3. What is multiple inheritance? Write a python code to demonstrate multiple inheritance."
   ]
  },
  {
   "cell_type": "code",
   "execution_count": 22,
   "id": "a71c0f32-a05b-4310-86d2-7f3d7d5dcaff",
   "metadata": {},
   "outputs": [],
   "source": [
    "# Multiple inheritance is a feature in object-oriented programming languages where a class can inherit properties and behaviors from multiple parent classes. In other words, a class can have more than one direct superclass."
   ]
  },
  {
   "cell_type": "code",
   "execution_count": 23,
   "id": "4f5286e4-68a8-499f-b12a-b52c8b3990e9",
   "metadata": {},
   "outputs": [],
   "source": [
    "#example\n",
    "\n",
    "class papa:\n",
    "    def test_papa(self):\n",
    "        return \"this is papa class\""
   ]
  },
  {
   "cell_type": "code",
   "execution_count": 24,
   "id": "4e629b89-909e-4cb6-8872-fb334a2bc840",
   "metadata": {},
   "outputs": [],
   "source": [
    "class mummy:\n",
    "    def test_mummy(self):\n",
    "        return \"this is mummy class\""
   ]
  },
  {
   "cell_type": "code",
   "execution_count": 25,
   "id": "61089dd5-c831-430c-b36b-7071d5d6ffa3",
   "metadata": {},
   "outputs": [],
   "source": [
    "class beta(papa, mummy):\n",
    "    pass"
   ]
  },
  {
   "cell_type": "code",
   "execution_count": 26,
   "id": "1b150a07-95fb-4e6b-9b64-eccb1d7fe46a",
   "metadata": {},
   "outputs": [],
   "source": [
    "obj_beta = beta()"
   ]
  },
  {
   "cell_type": "code",
   "execution_count": 28,
   "id": "de6427fb-a077-4bfb-adb1-9fec80bfb9f6",
   "metadata": {},
   "outputs": [
    {
     "data": {
      "text/plain": [
       "'this is mummy class'"
      ]
     },
     "execution_count": 28,
     "metadata": {},
     "output_type": "execute_result"
    }
   ],
   "source": [
    "obj_beta.test_mummy()"
   ]
  },
  {
   "cell_type": "code",
   "execution_count": 29,
   "id": "e707b99c-88ed-447e-8fba-634e905901a0",
   "metadata": {},
   "outputs": [
    {
     "data": {
      "text/plain": [
       "'this is papa class'"
      ]
     },
     "execution_count": 29,
     "metadata": {},
     "output_type": "execute_result"
    }
   ],
   "source": [
    "obj_beta.test_papa()"
   ]
  },
  {
   "cell_type": "markdown",
   "id": "d8022d0c-fea1-4c85-aec9-a5895107209a",
   "metadata": {},
   "source": [
    "### Q4. What are getter and setter in python? Create a class and create a getter and a setter method in this class."
   ]
  },
  {
   "cell_type": "code",
   "execution_count": 30,
   "id": "f8848652-3b4d-4205-a96c-8623372e38ad",
   "metadata": {},
   "outputs": [],
   "source": [
    "#In Python, getters and setters are methods used to access and modify the values of class attributes or properties. They provide a way to encapsulate the internal representation of an object and control how the attributes are accessed or modified."
   ]
  },
  {
   "cell_type": "code",
   "execution_count": 32,
   "id": "640fc9f0-af5f-4fe6-b22f-4097ab47be68",
   "metadata": {},
   "outputs": [],
   "source": [
    "class Person:\n",
    "    def __init__(self, name):\n",
    "        self.name = name\n",
    "        \n",
    "    def get_name(self):\n",
    "        return self.name\n",
    "    \n",
    "    def set_name(self, new_name):\n",
    "        self.name = new_name "
   ]
  },
  {
   "cell_type": "code",
   "execution_count": 33,
   "id": "df072591-5468-4524-817d-0d8853d27d44",
   "metadata": {},
   "outputs": [],
   "source": [
    "person = Person(\"Aakarsh\")"
   ]
  },
  {
   "cell_type": "code",
   "execution_count": 38,
   "id": "88aca6b9-7fa2-4b98-8bc1-39039bb90713",
   "metadata": {},
   "outputs": [
    {
     "data": {
      "text/plain": [
       "'Aakarsh'"
      ]
     },
     "execution_count": 38,
     "metadata": {},
     "output_type": "execute_result"
    }
   ],
   "source": [
    "person.get_name()"
   ]
  },
  {
   "cell_type": "code",
   "execution_count": 39,
   "id": "87381398-5f72-4828-893d-953ad26d21d4",
   "metadata": {},
   "outputs": [],
   "source": [
    "person.set_name(\"Aditya\")"
   ]
  },
  {
   "cell_type": "code",
   "execution_count": 41,
   "id": "ee618884-3b24-470b-9a84-1de733c3c8f5",
   "metadata": {},
   "outputs": [
    {
     "data": {
      "text/plain": [
       "'Aditya'"
      ]
     },
     "execution_count": 41,
     "metadata": {},
     "output_type": "execute_result"
    }
   ],
   "source": [
    "person.get_name()"
   ]
  },
  {
   "cell_type": "markdown",
   "id": "89b89985-6c1c-4524-bb6d-8620e18aae43",
   "metadata": {},
   "source": [
    "### Q5.What is method overriding in python? Write a python code to demonstrate method overriding."
   ]
  },
  {
   "cell_type": "code",
   "execution_count": 42,
   "id": "4fa0e6bd-ab79-4beb-83fb-ac39c5b4d92c",
   "metadata": {},
   "outputs": [],
   "source": [
    "#Method overriding is a concept in object-oriented programming where a subclass provides its own implementation of a method that is already defined in its superclass. The overridden method in the subclass has the same name, parameters, and return type as the method in the superclass."
   ]
  },
  {
   "cell_type": "code",
   "execution_count": 43,
   "id": "46458128-a9a1-45a8-b025-5fd467955b01",
   "metadata": {},
   "outputs": [],
   "source": [
    "class Animal:\n",
    "    def make_sound(self):\n",
    "        print(\"this animal make a sound\")"
   ]
  },
  {
   "cell_type": "code",
   "execution_count": 57,
   "id": "c1a63eda-666b-4f66-9e94-75430ea17318",
   "metadata": {},
   "outputs": [],
   "source": [
    "class cat(Animal):\n",
    "    def make_sound(self):\n",
    "        print(\"meow\")"
   ]
  },
  {
   "cell_type": "code",
   "execution_count": 58,
   "id": "e4748acb-e1c0-4710-8b9d-68e815ebeff7",
   "metadata": {},
   "outputs": [],
   "source": [
    "class dog(Animal):\n",
    "    def make_sound(self):\n",
    "        print(\"bhoo\")"
   ]
  },
  {
   "cell_type": "code",
   "execution_count": 59,
   "id": "82f5173f-e52e-47f1-808f-221dce76d6bb",
   "metadata": {},
   "outputs": [],
   "source": [
    "animal = Animal()"
   ]
  },
  {
   "cell_type": "code",
   "execution_count": 60,
   "id": "146a683c-274e-4be3-8563-4050643491d6",
   "metadata": {},
   "outputs": [
    {
     "name": "stdout",
     "output_type": "stream",
     "text": [
      "this animal make a sound\n"
     ]
    }
   ],
   "source": [
    "animal.make_sound()"
   ]
  },
  {
   "cell_type": "code",
   "execution_count": 62,
   "id": "d5daa712-73a7-4e90-ac33-70253de914a5",
   "metadata": {},
   "outputs": [],
   "source": [
    "Cat = cat()"
   ]
  },
  {
   "cell_type": "code",
   "execution_count": 63,
   "id": "f6c062a8-a1c4-4a68-a672-2b99c8ef7f10",
   "metadata": {},
   "outputs": [],
   "source": [
    "Dog = dog()"
   ]
  },
  {
   "cell_type": "code",
   "execution_count": 65,
   "id": "a4e5f325-c580-4e44-8a11-0fde244c6d8f",
   "metadata": {},
   "outputs": [
    {
     "name": "stdout",
     "output_type": "stream",
     "text": [
      "meow\n"
     ]
    }
   ],
   "source": [
    "Cat.make_sound()"
   ]
  },
  {
   "cell_type": "code",
   "execution_count": 66,
   "id": "d89b58cd-8883-461a-8223-2ab5efa957fc",
   "metadata": {},
   "outputs": [
    {
     "name": "stdout",
     "output_type": "stream",
     "text": [
      "bhoo\n"
     ]
    }
   ],
   "source": [
    "Dog.make_sound()"
   ]
  },
  {
   "cell_type": "code",
   "execution_count": null,
   "id": "7eba60a8-3444-43d3-8b2a-7a10ccb5e909",
   "metadata": {},
   "outputs": [],
   "source": []
  }
 ],
 "metadata": {
  "kernelspec": {
   "display_name": "Python 3 (ipykernel)",
   "language": "python",
   "name": "python3"
  },
  "language_info": {
   "codemirror_mode": {
    "name": "ipython",
    "version": 3
   },
   "file_extension": ".py",
   "mimetype": "text/x-python",
   "name": "python",
   "nbconvert_exporter": "python",
   "pygments_lexer": "ipython3",
   "version": "3.10.8"
  }
 },
 "nbformat": 4,
 "nbformat_minor": 5
}
